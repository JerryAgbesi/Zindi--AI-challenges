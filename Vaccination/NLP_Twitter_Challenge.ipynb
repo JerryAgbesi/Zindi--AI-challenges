{
  "cells": [
    {
      "cell_type": "code",
      "execution_count": null,
      "metadata": {
        "id": "Gb08iJ8y-7ZU"
      },
      "outputs": [],
      "source": [
        "!pip install simpletransformers --quiet"
      ]
    },
    {
      "cell_type": "code",
      "source": [
        "import pandas as pd\n",
        "import numpy as np\n",
        "from sklearn.metrics import *\n",
        "from sklearn.metrics import mean_squared_error as mse\n",
        "import warnings\n",
        "warnings.simplefilter('ignore')\n",
        "from tqdm import tqdm\n",
        "\n",
        "from simpletransformers.classification.classification_model import ClassificationModel\n",
        "from sklearn.model_selection import train_test_split\n",
        "# from scipy.special import softmax\n",
        "\n",
        "\n"
      ],
      "metadata": {
        "id": "Ll1TJcVtACPj"
      },
      "execution_count": null,
      "outputs": []
    },
    {
      "cell_type": "markdown",
      "source": [
        "### Importing in the data"
      ],
      "metadata": {
        "id": "znu4FAy6L-Zg"
      }
    },
    {
      "cell_type": "code",
      "source": [
        "train_set = pd.read_csv('Train.csv')\n",
        "test_set = pd.read_csv('Test.csv')\n",
        "sample_submission = pd.read_csv('SampleSubmission.csv')\n",
        "\n",
        "test_set.head()"
      ],
      "metadata": {
        "id": "jrXTs0ALACR9"
      },
      "execution_count": null,
      "outputs": []
    },
    {
      "cell_type": "code",
      "source": [
        "#Cleaning up the training set\n",
        "train_set[\"safe_text\"].apply(lambda x: len(x)).describe()\n",
        "train_set[\"label\"].value_counts()"
      ],
      "metadata": {
        "id": "74i-kBN3ACUx"
      },
      "execution_count": null,
      "outputs": []
    },
    {
      "cell_type": "code",
      "source": [
        "#Try setting this line to neutral\n",
        "train_set['label'][~train_set['label'].isin([0,-1,1])]=-1"
      ],
      "metadata": {
        "id": "laYsVoW0ACZv"
      },
      "execution_count": null,
      "outputs": []
    },
    {
      "cell_type": "code",
      "source": [
        "train_set.isnull().sum()"
      ],
      "metadata": {
        "id": "_FUaYC6U_Bhx"
      },
      "execution_count": null,
      "outputs": []
    },
    {
      "cell_type": "code",
      "source": [
        "train_set = train_set.dropna()\n",
        "\n"
      ],
      "metadata": {
        "id": "AVoZAXqm_Bkc"
      },
      "execution_count": null,
      "outputs": []
    },
    {
      "cell_type": "code",
      "source": [
        "#Cleaning the test set\n",
        "test_set.isnull().sum()"
      ],
      "metadata": {
        "id": "CqVCQlug_BnF"
      },
      "execution_count": null,
      "outputs": []
    },
    {
      "cell_type": "code",
      "source": [
        "test_set[\"safe_text\"] = test_set[\"safe_text\"].fillna(\"xxxxxx\")\n",
        "train_set.size"
      ],
      "metadata": {
        "id": "WJ6EK7sK_Bp_"
      },
      "execution_count": null,
      "outputs": []
    },
    {
      "cell_type": "markdown",
      "source": [
        "### Training the models\n",
        "\n",
        "\n",
        "\n",
        "\n"
      ],
      "metadata": {
        "id": "b1hakJSXCYLx"
      }
    },
    {
      "cell_type": "code",
      "source": [
        "def create_model(model_type,model_name,epochs=2,train_batch_size=110,eval_batch_size=130,max_seq_len=134,learning_rate=2e-5):\n",
        "  reg_model = ClassificationModel(model_type,model_name,num_labels=1,args={'train_batch_size':train_batch_size,\n",
        "                                                                         'eval_batch_size': eval_batch_size,\n",
        "                                                                         'reprocess_input_data': True,\n",
        "                                                                         'overwrite_output_dir': True,\n",
        "                                                                         'fp16': False,\n",
        "                                                                         'do_lower_case': False,\n",
        "                                                                         'num_train_epochs':epochs,\n",
        "                                                                         'max_seq_length': max_seq_len,\n",
        "                                                                         'regression': True,\n",
        "                                                                         'manual_seed': 2,\n",
        "                                                                         'learning_rate':learning_rate,\n",
        "                                                                         \"save_eval_checkpoints\": False,\n",
        "                                                                         \"save_model_every_epoch\": False,})\n",
        "  return reg_model \n"
      ],
      "metadata": {
        "id": "C78_K0_u_Bsk"
      },
      "execution_count": null,
      "outputs": []
    },
    {
      "cell_type": "code",
      "source": [
        "temp_df = pd.DataFrame()\n",
        "temp_df['safe_text'] = train_set[\"safe_text\"]\n",
        "temp_df['labels'] = train_set[\"label\"]\n",
        "temp_test = test_set[['safe_text']].rename({'safe_text':'text'},axis=1)\n",
        "temp_test['labels'] = 0\n",
        "temp_train,temp_eval = train_test_split(temp_df,test_size=0.3,random_state=3)"
      ],
      "metadata": {
        "id": "6YYMN-xW_BvL"
      },
      "execution_count": null,
      "outputs": []
    },
    {
      "cell_type": "code",
      "source": [
        "model1 = create_model('roberta','roberta-base',epochs=3)\n",
        "model1.train_model(temp_train)\n",
        "preds_val = model1.eval_model(temp_eval)[1]\n",
        "preds_val = np.clip(preds_val,-1,1)\n",
        "print(f\"MSE: {mse(temp_eval['labels'],preds_val)}\\n RMSE:{(mse(temp_eval['labels'],preds_val))**0.5}\")\n",
        "test_preds = model1.eval_model(temp_test)[1]\n",
        "test_preds = np.clip(test_preds,-1,1)\n",
        "pev_1 = preds_val\n",
        "pt_1 = test_preds"
      ],
      "metadata": {
        "id": "LQ__HQ-hSt39"
      },
      "execution_count": null,
      "outputs": []
    },
    {
      "cell_type": "code",
      "source": [
        "model2 = create_model('roberta','roberta-large',epochs=3,train_batch_size=16,eval_batch_size=16,learning_rate=1e-5)\n",
        "model2.train_model(temp_train)\n",
        "preds_val = model2.eval_model(temp_eval)[1]\n",
        "preds_val = np.clip(preds_val,-1,1)\n",
        "print(f\"MSE: {mse(temp_eval['labels'],preds_val)}\\n RMSE:{(mse(temp_eval['labels'],preds_val))**0.5}\")\n",
        "test_preds = model2.eval_model(temp_test)[1]\n",
        "test_preds = np.clip(test_preds,-1,1)\n",
        "pev_2 = preds_val\n",
        "pt_2 = test_preds"
      ],
      "metadata": {
        "id": "_Q8bR0UCL7fK"
      },
      "execution_count": null,
      "outputs": []
    },
    {
      "cell_type": "code",
      "source": [
        "final_pv = (pev_1 * 0.3) + (pev_2 * 0.7)\n",
        "print(f\"RMSE: {mse(temp_eval['labels'],final_pv)**0.5}\")"
      ],
      "metadata": {
        "id": "cjXFmKVT_Bx1"
      },
      "execution_count": null,
      "outputs": []
    },
    {
      "cell_type": "code",
      "source": [
        "tp = (pt_1*0.3) + (pt_2*0.7)"
      ],
      "metadata": {
        "id": "28m2TBVG_B0u"
      },
      "execution_count": null,
      "outputs": []
    },
    {
      "cell_type": "code",
      "source": [
        "final_preds = tp\n",
        "final_df = test_set[[\"ID_COL\"]]"
      ],
      "metadata": {
        "id": "ZQNDPXYQ_B3a"
      },
      "execution_count": null,
      "outputs": []
    },
    {
      "cell_type": "code",
      "source": [
        "final_df[\"TARGET_COL\"] = final_preds\n",
        "submission_file_name = \"NLP_challenge_solution.csv\"\n",
        "final_df.to_csv(submission_file_name,index=False)"
      ],
      "metadata": {
        "id": "uYr7YEmtR_Wg"
      },
      "execution_count": null,
      "outputs": []
    },
    {
      "cell_type": "code",
      "source": [
        "final_df.head()"
      ],
      "metadata": {
        "id": "zx1gskiUACc7"
      },
      "execution_count": null,
      "outputs": []
    }
  ],
  "metadata": {
    "kernelspec": {
      "display_name": "Python 3",
      "language": "python",
      "name": "python3"
    },
    "language_info": {
      "name": "python",
      "version": "3.10.6"
    },
    "orig_nbformat": 4,
    "vscode": {
      "interpreter": {
        "hash": "916dbcbb3f70747c44a77c7bcd40155683ae19c65e1c03b4aa3499c5328201f1"
      }
    },
    "colab": {
      "provenance": [],
      "private_outputs": true
    },
    "accelerator": "GPU",
    "gpuClass": "standard"
  },
  "nbformat": 4,
  "nbformat_minor": 0
}